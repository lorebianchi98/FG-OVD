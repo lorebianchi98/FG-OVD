{
 "cells": [
  {
   "cell_type": "code",
   "execution_count": 1,
   "metadata": {},
   "outputs": [],
   "source": [
    "import yaml\n",
    "import os\n"
   ]
  },
  {
   "cell_type": "code",
   "execution_count": 7,
   "metadata": {},
   "outputs": [
    {
     "name": "stdout",
     "output_type": "stream",
     "text": [
      "base-v2_infonce.yaml\n",
      "large-v2_infonce.yaml\n",
      "large-v1_infonce.yaml\n",
      "base-v1_infonce.yaml\n"
     ]
    }
   ],
   "source": [
    "# writing mse\n",
    "for file in os.listdir():\n",
    "    if 'v1.yaml' not in file and 'v2.yaml' not in file:\n",
    "        continue\n",
    "    with open(file, 'r') as f:\n",
    "        data = yaml.safe_load(f)\n",
    "    data['training']['ltype'] = 'infonce'\n",
    "    new_file = file.split('.')[0] + '_infonce.yaml'\n",
    "    print(new_file)\n",
    "    with open(new_file, 'w') as f:\n",
    "        yaml.dump(data, f, default_flow_style=False)"
   ]
  },
  {
   "cell_type": "code",
   "execution_count": 4,
   "metadata": {},
   "outputs": [
    {
     "data": {
      "text/plain": [
       "'base-v1_infonce.yaml'"
      ]
     },
     "execution_count": 4,
     "metadata": {},
     "output_type": "execute_result"
    }
   ],
   "source": [
    "file.split('.')[0] + '_infonce.yaml'"
   ]
  },
  {
   "cell_type": "code",
   "execution_count": 12,
   "metadata": {},
   "outputs": [],
   "source": [
    "# creating cross-entropy configs\n",
    "for file in os.listdir():\n",
    "    if 'sd.' not in file:\n",
    "        continue\n",
    "    with open(file, 'r') as f:\n",
    "        data = yaml.safe_load(f)\n",
    "    data['training']['self_distillation'] = 'ce'\n",
    "    new_file = file.split('.')[0] + '_ce.yaml'\n",
    "    with open(new_file, 'w') as f:\n",
    "        yaml.dump(data, f, default_flow_style=False)"
   ]
  }
 ],
 "metadata": {
  "kernelspec": {
   "display_name": "NoctOWL2",
   "language": "python",
   "name": "python3"
  },
  "language_info": {
   "codemirror_mode": {
    "name": "ipython",
    "version": 3
   },
   "file_extension": ".py",
   "mimetype": "text/x-python",
   "name": "python",
   "nbconvert_exporter": "python",
   "pygments_lexer": "ipython3",
   "version": "3.9.20"
  }
 },
 "nbformat": 4,
 "nbformat_minor": 2
}
